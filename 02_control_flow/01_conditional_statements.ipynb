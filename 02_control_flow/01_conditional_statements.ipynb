{
 "cells": [
  {
   "cell_type": "markdown",
   "metadata": {},
   "source": [
    "## What Are Control Statements?\n",
    "\n",
    "Control statements in Python are fundamental constructs that allow you to control the flow of execution in your program based on specific conditions. They enable decision-making, repetition, and conditional execution. By using control statements, you can guide your program to make decisions (using conditional statements like `if`), repeat actions (with loops like `for` and `while`), or alter the usual flow (using `break`, `continue`, etc.).\n",
    "\n",
    "### Types of Control Statements:\n",
    "\n",
    "1. **Conditional Statements**: These statements allow the program to make decisions based on conditions (e.g., `if`, `if-else`, `if-elif-else`).\n",
    "\n",
    "2. **Loops**: These statements repeat a block of code multiple times based on a condition (e.g., `for`, `while`).\n",
    "\n",
    "3. **Control Flow Alteration**: These are special statements that can alter the usual flow within loops (e.g., `break`, `continue`, `pass`).\n",
    "\n",
    "In Python, control statements allow for more dynamic and flexible code execution, which is essential for handling various real-world scenarios.\n"
   ]
  },
  {
   "cell_type": "markdown",
   "metadata": {},
   "source": [
    "### `if` Statement Example\n",
    "\n",
    "The `if` statement allows you to execute a block of code only if a certain condition is true. If the condition evaluates to `False`, the block is skipped, and the program continues.\n",
    "\n",
    "**Example:**\n",
    "\n",
    "```python\n",
    "score = 85\n",
    "\n",
    "if score >= 80:\n",
    "    print(\"You passed the test!\")\n"
   ]
  },
  {
   "cell_type": "code",
   "execution_count": 1,
   "metadata": {},
   "outputs": [],
   "source": [
    "x = 5\n",
    "if x > 5:\n",
    "    print(\" x is greater than 5\")"
   ]
  },
  {
   "cell_type": "code",
   "execution_count": 2,
   "metadata": {},
   "outputs": [],
   "source": [
    "## if\n",
    "age = 20\n",
    "if x >=18: # evaluate condition execute code inside the block\n",
    "    print(\"You are allowed to vote in elections\")"
   ]
  },
  {
   "cell_type": "markdown",
   "metadata": {},
   "source": [
    "### `else` Statement Explanation\n",
    "\n",
    "The `else` statement is used to define a block of code that will execute when the condition in the corresponding `if` statement evaluates to `False`. It provides an alternative path in the code, ensuring that something happens when the `if` condition is not met.\n",
    "\n",
    "The `else` block must follow an `if` statement, and no conditions are placed on `else` itself—it runs when the previous conditions are not met.\n",
    "\n",
    "**Example:**\n",
    "\n",
    "```python\n",
    "score = 65\n",
    "\n",
    "if score >= 80:\n",
    "    print(\"You passed the test!\")\n",
    "else:\n",
    "    print(\"You did not pass the test.\")\n"
   ]
  },
  {
   "cell_type": "code",
   "execution_count": 3,
   "metadata": {},
   "outputs": [
    {
     "name": "stdout",
     "output_type": "stream",
     "text": [
      "You're under 18, you're not allowed to vote\n"
     ]
    }
   ],
   "source": [
    "# else\n",
    "# Else statements execute a block of code if condition in the if statement is false\n",
    "\n",
    "age = 16\n",
    "\n",
    "if age >=18:\n",
    "    print(\"you're eligible to vote\")\n",
    "else:\n",
    "    print(\"You're under 18, you're not allowed to vote\")"
   ]
  },
  {
   "cell_type": "markdown",
   "metadata": {},
   "source": [
    "### `elif` Statement Example\n",
    "\n",
    "The `elif` statement allows you to check multiple conditions sequentially. If the first `if` condition is false, Python checks the next `elif` condition, and so on, until a condition is found to be true.\n",
    "\n",
    "**Example:**\n",
    "\n",
    "```python\n",
    "age = 25\n",
    "\n",
    "if age < 18:\n",
    "    print(\"You are a minor.\")\n",
    "elif age >= 18 and age < 65:\n",
    "    print(\"You are an adult.\")\n",
    "else:\n",
    "    print(\"You are a senior.\")\n"
   ]
  },
  {
   "cell_type": "code",
   "execution_count": 4,
   "metadata": {},
   "outputs": [
    {
     "name": "stdout",
     "output_type": "stream",
     "text": [
      "x is equal to 7\n"
     ]
    }
   ],
   "source": [
    "#elif\n",
    "\n",
    "x = 7\n",
    "if x > 10:\n",
    "    print(\"x is greater than 10\")\n",
    "elif x == 7:\n",
    "    print(\"x is equal to 7\")\n",
    "else:\n",
    "    print(\"x is less than 10\")\n"
   ]
  },
  {
   "cell_type": "markdown",
   "metadata": {},
   "source": [
    "### Nested Conditional Statements\n",
    "\n",
    "Nested conditional statements are conditionals placed inside other conditionals. This means you can have an `if`, `else`, or `elif` block inside another `if` or `else` block. It allows you to check multiple conditions in a hierarchical or dependent manner.\n",
    "\n",
    "This is useful when you need to make a decision inside another decision. Each level of the nested statement must be properly indented to show that one block belongs to another.\n",
    "\n",
    "**Example:**\n",
    "\n",
    "```python\n",
    "age = 20\n",
    "citizenship = \"USA\"\n",
    "\n",
    "if age >= 18:\n",
    "    if citizenship == \"USA\":\n",
    "        print(\"You are eligible to vote in the USA.\")\n",
    "    else:\n",
    "        print(\"You are not a US citizen.\")\n",
    "else:\n",
    "    print(\"You are not old enough to vote.\")\n"
   ]
  },
  {
   "cell_type": "code",
   "execution_count": 5,
   "metadata": {},
   "outputs": [
    {
     "name": "stdout",
     "output_type": "stream",
     "text": [
      "Bonus: 20% of salary.\n"
     ]
    }
   ],
   "source": [
    "performance_rating = \"excellent\"\n",
    "years_of_service = 5\n",
    "\n",
    "if performance_rating == \"excellent\":\n",
    "    if years_of_service >= 5:\n",
    "        print(\"Bonus: 20% of salary.\")\n",
    "    else:\n",
    "        print(\"Bonus: 15% of salary.\")\n",
    "elif performance_rating == \"good\":\n",
    "    if years_of_service >= 5:\n",
    "        print(\"Bonus: 10% of salary.\")\n",
    "    else:\n",
    "        print(\"Bonus: 5% of salary.\")\n",
    "else:\n",
    "    if years_of_service >= 5:\n",
    "        print(\"Bonus: 2% of salary.\")\n",
    "    else:\n",
    "        print(\"No bonus.\")\n"
   ]
  },
  {
   "cell_type": "code",
   "execution_count": 13,
   "metadata": {},
   "outputs": [
    {
     "name": "stdout",
     "output_type": "stream",
     "text": [
      "The number is positive\n",
      "The number is odd\n"
     ]
    }
   ],
   "source": [
    "num = int(input(\"Enter the number\"))\n",
    "\n",
    "if num > 0:\n",
    "    print(\"The number is positive\")\n",
    "    if num % 2==0:\n",
    "        print(\"The number is even\")\n",
    "    else:\n",
    "        print(\"The number is odd\")\n",
    "elif num == 0:\n",
    "    print(\"the number is zero\")\n",
    "else:\n",
    "    print(\"The number is negative\")"
   ]
  },
  {
   "cell_type": "code",
   "execution_count": 35,
   "metadata": {},
   "outputs": [
    {
     "name": "stdout",
     "output_type": "stream",
     "text": [
      "2023 is not a leap year.\n"
     ]
    }
   ],
   "source": [
    "## Practicle example\n",
    "\n",
    "# need to determind a year is leap or using nested condition\n",
    "\n",
    "# Input: Year to check\n",
    "year = int(input(\"Enter the year\"))\n",
    "\n",
    "\n",
    "# A year is a leap year if:\n",
    "# - It is divisible by 4 and\n",
    "#   - It is not divisible by 100, unless\n",
    "#   - It is also divisible by 400\n",
    "\n",
    "if year % 4 == 0: # check if the year is divisible by 4\n",
    "    if year % 100 == 0: # If divisionle by 4, check if divisible by 100\n",
    "        if year % 400 == 0: #If divisible by 100, check if it's divisible by 400\n",
    "            print(f\"{year} is a leap year. \") # Divisible by 400 , so it's a leap year\n",
    "        else:\n",
    "            print(f\"{year} is not a leap year \") #Divisible by 100 but not by 400, so it's not a leap year\n",
    "    else:\n",
    "        print(f\"{year} is a leap year \") # Divisible by 4 but not by 100, so it's leap year\n",
    "else:\n",
    "    print(f\"{year} is not a leap year.\") # Not Divisible by 4, so its not a leap year "
   ]
  },
  {
   "cell_type": "code",
   "execution_count": 44,
   "metadata": {},
   "outputs": [
    {
     "name": "stdout",
     "output_type": "stream",
     "text": [
      "Result: Please enter a valid operation from the allowed ones: +, -, *, /, //\n"
     ]
    }
   ],
   "source": [
    "# Simple calculation with user input and single validation for operation\n",
    "\n",
    "num1 = int(input(\"Enter the first number: \"))\n",
    "num2 = int(input(\"Enter the second number: \"))\n",
    "\n",
    "# Acceptable operations\n",
    "valid_operations = ['+', '-', '*', '/', '//']\n",
    "\n",
    "# Get operation input from the user\n",
    "operation = input(\"Enter the operation (+, -, *, /, //): \")\n",
    "\n",
    "# Check if the entered operation is valid\n",
    "if operation in valid_operations:\n",
    "    # Perform the calculation based on the chosen operation\n",
    "    if operation == \"+\":\n",
    "        result = num1 + num2\n",
    "    elif operation == \"-\":\n",
    "        result = num1 - num2\n",
    "    elif operation == \"*\":\n",
    "        result = num1 * num2\n",
    "    elif operation == \"/\":\n",
    "        if num2 != 0:\n",
    "            result = num1 / num2\n",
    "        else:\n",
    "            result = \"Error! Division by zero\"\n",
    "    elif operation == \"//\":\n",
    "        if num2 != 0:\n",
    "            result = num1 // num2\n",
    "        else:\n",
    "            result = \"Error! Division by zero\"\n",
    "else:\n",
    "    result = \"Please enter a valid operation from the allowed ones: +, -, *, /, //\"\n",
    "\n",
    "# Print the result\n",
    "print(\"Result:\", result)\n"
   ]
  },
  {
   "cell_type": "code",
   "execution_count": 50,
   "metadata": {},
   "outputs": [
    {
     "name": "stdout",
     "output_type": "stream",
     "text": [
      "Your ticket price is: $12\n"
     ]
    }
   ],
   "source": [
    "# Input: Age and student status\n",
    "age = int(input(\"Enter your age: \"))\n",
    "student = input(\"Are you a student? (yes/no): \").lower()\n",
    "\n",
    "# Determine ticket price based on age and student status\n",
    "if age < 5:\n",
    "    ticket_price = 0  # Free for children under 5\n",
    "elif 5 <= age <= 12:\n",
    "    ticket_price = 10  # $10 for children aged 5-12\n",
    "elif 13 <= age <= 17:\n",
    "    ticket_price = 15  # $15 for teenagers aged 13-17\n",
    "elif 18 <= age <= 64:\n",
    "    if student == \"yes\":\n",
    "        ticket_price = 12  # $12 for students aged 18-64\n",
    "    else:\n",
    "        ticket_price = 20  # $20 for non-students aged 18-64\n",
    "else:\n",
    "    ticket_price = 8  # $8 for seniors aged 65+\n",
    "\n",
    "# Output the ticket price\n",
    "print(f\"Your ticket price is: ${ticket_price}\")\n"
   ]
  },
  {
   "cell_type": "code",
   "execution_count": null,
   "metadata": {},
   "outputs": [],
   "source": []
  },
  {
   "cell_type": "code",
   "execution_count": null,
   "metadata": {},
   "outputs": [],
   "source": []
  }
 ],
 "metadata": {
  "kernelspec": {
   "display_name": "Python 3",
   "language": "python",
   "name": "python3"
  },
  "language_info": {
   "codemirror_mode": {
    "name": "ipython",
    "version": 3
   },
   "file_extension": ".py",
   "mimetype": "text/x-python",
   "name": "python",
   "nbconvert_exporter": "python",
   "pygments_lexer": "ipython3",
   "version": "3.10.15"
  }
 },
 "nbformat": 4,
 "nbformat_minor": 2
}
