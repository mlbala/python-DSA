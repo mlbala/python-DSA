{
 "cells": [
  {
   "cell_type": "markdown",
   "metadata": {},
   "source": [
    "# What is a Variable in Python?\n",
    "\n",
    "A **variable** in Python is a **named storage location** used to store data that can be referenced and manipulated later in the program. Think of a variable as a **container** that holds information, such as **numbers, text, or other data types**.\n",
    "\n",
    "---\n",
    "- Introduction to Variables\n",
    "- Declaring and assigning variables\n",
    "- naming conventions\n",
    "- Understanding variable types\n",
    "- Type checking and conversion\n",
    "- Dynamic typing\n",
    "- Practical emabples and common errors"
   ]
  },
  {
   "cell_type": "code",
   "execution_count": 7,
   "metadata": {},
   "outputs": [
    {
     "name": "stdout",
     "output_type": "stream",
     "text": [
      "age :  30\n",
      "age : 30\n",
      "height :  5.5\n",
      "Name :  Python\n",
      "\n"
     ]
    }
   ],
   "source": [
    "# Declaring and assigning variables\n",
    "\n",
    "age=30\n",
    "height=5.5\n",
    "name=\"Python\"\n",
    "is_student=True\n",
    "\n",
    "#print the vairbales\n",
    "print(\"age : \",age)\n",
    "print(f\"age : {age}\")\n",
    "print(\"height : \", height)\n",
    "print(\"Name : \", name)"
   ]
  },
  {
   "cell_type": "markdown",
   "metadata": {},
   "source": [
    "# Rules for Variable Naming Conventions in Python\n",
    "\n",
    "---\n",
    "\n",
    "### 1. Start with a Letter or an Underscore (`_`)\n",
    "- A variable name must **begin with a letter** (a-z, A-Z) or an **underscore** (`_`).\n",
    "- It **cannot start with a number**.\n",
    "\n",
    "\n",
    "\n",
    "### 2. Use Letters, Numbers, and Underscores (`_`)\n",
    "- After the first character, **letters, numbers, and underscores** can be used.\n",
    "- **Spaces** are not allowed within variable names.\n",
    "\n",
    "\n",
    "### 3. Variable Names are Case-Sensitive\n",
    "- Python is **case-sensitive**: `name` and `Name` are treated as **different variables**.\n",
    "\n",
    "\n",
    "\n",
    "### 4. Avoid Python Keywords\n",
    "- Do not use **Python reserved keywords** (e.g., `if`, `for`, `while`, etc.) as variable names.\n",
    "- Using these will result in a **SyntaxError**.\n",
    "\n",
    "\n",
    "\n",
    "### 5. Best Practices for Variable Naming\n",
    "- Use **descriptive names** to make your code readable.\n",
    "- Use **underscores (`_`)** to separate words (following snake_case convention).\n",
    "- Avoid using **single-character variable names**, unless for simple loops.\n",
    "- Prefer **lowercase names** unless defining constants or using specific conventions.\n"
   ]
  },
  {
   "cell_type": "code",
   "execution_count": 11,
   "metadata": {},
   "outputs": [
    {
     "name": "stdout",
     "output_type": "stream",
     "text": [
      "Python Programmer\n"
     ]
    }
   ],
   "source": [
    "# Naming convention\n",
    "\n",
    "# Variable names should be descriptive\n",
    " # They mush start with letter or an '_' and it can contain letters, numbers and underscores\n",
    " # Variable names are case sensitive \n",
    "\n",
    "## Valid variablename\n",
    "\n",
    "first_name = \"Python\"\n",
    "last_name = \"Programmer\"\n",
    "\n",
    "print(first_name + \" \" + last_name)"
   ]
  },
  {
   "cell_type": "code",
   "execution_count": 14,
   "metadata": {},
   "outputs": [
    {
     "ename": "SyntaxError",
     "evalue": "invalid syntax. Maybe you meant '==' or ':=' instead of '='? (3379246799.py, line 6)",
     "output_type": "error",
     "traceback": [
      "\u001b[0;36m  Cell \u001b[0;32mIn[14], line 6\u001b[0;36m\u001b[0m\n\u001b[0;31m    @name=\"pyton\"\u001b[0m\n\u001b[0m     ^\u001b[0m\n\u001b[0;31mSyntaxError\u001b[0m\u001b[0;31m:\u001b[0m invalid syntax. Maybe you meant '==' or ':=' instead of '='?\n"
     ]
    }
   ],
   "source": [
    "# Invvalid name\n",
    "\n",
    "# 2age=30\n",
    "\n",
    "# first-name=\"python\"\n",
    "\n",
    "# @name=\"pyton\"\n",
    "\n",
    "#"
   ]
  },
  {
   "cell_type": "code",
   "execution_count": 15,
   "metadata": {},
   "outputs": [
    {
     "name": "stdout",
     "output_type": "stream",
     "text": [
      "Python\n",
      "Programmer\n"
     ]
    }
   ],
   "source": [
    "# Case Sensitivity\n",
    "\n",
    "name = \"Python\"\n",
    "Name = \"Programmer\"\n",
    "\n",
    "print(name)\n",
    "print(Name)\n"
   ]
  },
  {
   "cell_type": "code",
   "execution_count": 16,
   "metadata": {},
   "outputs": [
    {
     "name": "stdout",
     "output_type": "stream",
     "text": [
      "<class 'int'>\n",
      "<class 'float'>\n",
      "<class 'str'>\n",
      "<class 'bool'>\n"
     ]
    }
   ],
   "source": [
    "## Understanding variable types\n",
    "## Python is dynamically typed, type of a variable is determined at runtime\n",
    "\n",
    "#examples\n",
    "age=30 # during the run time it understand that defined variable is integer\n",
    "height = 5.5 # float\n",
    "name = \"python\" #string\n",
    "is_student=True #boolean\n",
    "\n",
    "print(type(age))\n",
    "print(type(height))\n",
    "print(type(name))\n",
    "print(type(is_student))"
   ]
  },
  {
   "cell_type": "code",
   "execution_count": 18,
   "metadata": {},
   "outputs": [
    {
     "data": {
      "text/plain": [
       "float"
      ]
     },
     "execution_count": 18,
     "metadata": {},
     "output_type": "execute_result"
    }
   ],
   "source": [
    "## Type checking and conversion\n",
    "\n",
    "type(height)"
   ]
  },
  {
   "cell_type": "code",
   "execution_count": 22,
   "metadata": {},
   "outputs": [
    {
     "name": "stdout",
     "output_type": "stream",
     "text": [
      "25\n",
      "<class 'int'>\n",
      "25\n",
      "<class 'str'>\n"
     ]
    }
   ],
   "source": [
    "age= 25\n",
    "print(age)\n",
    "print(type(age))\n",
    "\n",
    "## type conversion\n",
    "\n",
    "age_str = str(age)\n",
    "print(age_str)\n",
    "print(type(age_str))"
   ]
  },
  {
   "cell_type": "code",
   "execution_count": 23,
   "metadata": {},
   "outputs": [
    {
     "name": "stdout",
     "output_type": "stream",
     "text": [
      "25 <class 'str'>\n",
      "25 <class 'int'>\n"
     ]
    }
   ],
   "source": [
    "age=\"25\"\n",
    "print(age,type(age))\n",
    "\n",
    "\n",
    "age_int = int(age)\n",
    "\n",
    "print(age_int, type(age_int))"
   ]
  },
  {
   "cell_type": "code",
   "execution_count": 24,
   "metadata": {},
   "outputs": [
    {
     "ename": "ValueError",
     "evalue": "invalid literal for int() with base 10: 'python'",
     "output_type": "error",
     "traceback": [
      "\u001b[0;31m---------------------------------------------------------------------------\u001b[0m",
      "\u001b[0;31mValueError\u001b[0m                                Traceback (most recent call last)",
      "Cell \u001b[0;32mIn[24], line 3\u001b[0m\n\u001b[1;32m      1\u001b[0m name\u001b[38;5;241m=\u001b[39m\u001b[38;5;124m\"\u001b[39m\u001b[38;5;124mpython\u001b[39m\u001b[38;5;124m\"\u001b[39m \u001b[38;5;66;03m# can i convert this into number or integer\u001b[39;00m\n\u001b[0;32m----> 3\u001b[0m \u001b[38;5;28;43mint\u001b[39;49m\u001b[43m(\u001b[49m\u001b[43mname\u001b[49m\u001b[43m)\u001b[49m\n",
      "\u001b[0;31mValueError\u001b[0m: invalid literal for int() with base 10: 'python'"
     ]
    }
   ],
   "source": [
    "name=\"python\" # can i convert this into number or integer\n",
    "\n",
    "int(name)"
   ]
  },
  {
   "cell_type": "code",
   "execution_count": 27,
   "metadata": {},
   "outputs": [
    {
     "data": {
      "text/plain": [
       "5"
      ]
     },
     "execution_count": 27,
     "metadata": {},
     "output_type": "execute_result"
    }
   ],
   "source": [
    "height = 5.11\n",
    "print(type(height))\n",
    "\n",
    "print(int(height))"
   ]
  },
  {
   "cell_type": "code",
   "execution_count": 28,
   "metadata": {},
   "outputs": [
    {
     "data": {
      "text/plain": [
       "5.0"
      ]
     },
     "execution_count": 28,
     "metadata": {},
     "output_type": "execute_result"
    }
   ],
   "source": [
    "float(int(height))"
   ]
  },
  {
   "cell_type": "code",
   "execution_count": 30,
   "metadata": {},
   "outputs": [
    {
     "name": "stdout",
     "output_type": "stream",
     "text": [
      "10 <class 'int'>\n",
      "Python <class 'str'>\n",
      "3.5 <class 'float'>\n",
      "True <class 'bool'>\n"
     ]
    }
   ],
   "source": [
    "## Dynamic typing\n",
    "## Python allows the type of the variable to change as the program executes\n",
    "\n",
    "var = 10\n",
    "print(var, type(var))\n",
    "\n",
    "var = \"Python\"\n",
    "\n",
    "print(var, type(var))\n",
    "\n",
    "var = 3.5 \n",
    "print(var, type(var))\n",
    "\n",
    "var=True\n",
    "print(var, type(var))"
   ]
  },
  {
   "cell_type": "code",
   "execution_count": 32,
   "metadata": {},
   "outputs": [
    {
     "name": "stdout",
     "output_type": "stream",
     "text": [
      "16 <class 'str'>\n"
     ]
    }
   ],
   "source": [
    "## Input\n",
    "\n",
    "## A user want to give some value\n",
    "\n",
    "age=input(\"Waht is the age\")\n",
    "\n",
    "print(age, type(age))"
   ]
  },
  {
   "cell_type": "code",
   "execution_count": 33,
   "metadata": {},
   "outputs": [
    {
     "name": "stdout",
     "output_type": "stream",
     "text": [
      "10 <class 'int'>\n"
     ]
    }
   ],
   "source": [
    "age=int(input(\"Waht is the age\"))\n",
    "\n",
    "print(age, type(age))"
   ]
  },
  {
   "cell_type": "code",
   "execution_count": 34,
   "metadata": {},
   "outputs": [
    {
     "name": "stdout",
     "output_type": "stream",
     "text": [
      "Sum :  14.0\n",
      "Difference :  6.0\n",
      "Product :  40.0\n",
      "Quotient :  2.5\n"
     ]
    }
   ],
   "source": [
    "## simple calculator\n",
    "\n",
    "num1 = float(input(\"Enter first number: \"))\n",
    "num2 = float(input(\"Enter second number: \"))\n",
    "\n",
    "sum = num1 + num2\n",
    "\n",
    "difference = num1 - num2\n",
    "\n",
    "product = num1 * num2\n",
    "\n",
    "quotient = num1 / num2\n",
    "\n",
    "print(\"Sum : \",sum)\n",
    "print(\"Difference : \", difference)\n",
    "print(\"Product : \",product)\n",
    "print(\"Quotient : \",quotient)\n"
   ]
  },
  {
   "cell_type": "code",
   "execution_count": null,
   "metadata": {},
   "outputs": [],
   "source": []
  }
 ],
 "metadata": {
  "kernelspec": {
   "display_name": "Python 3",
   "language": "python",
   "name": "python3"
  },
  "language_info": {
   "codemirror_mode": {
    "name": "ipython",
    "version": 3
   },
   "file_extension": ".py",
   "mimetype": "text/x-python",
   "name": "python",
   "nbconvert_exporter": "python",
   "pygments_lexer": "ipython3",
   "version": "3.10.15"
  }
 },
 "nbformat": 4,
 "nbformat_minor": 2
}
