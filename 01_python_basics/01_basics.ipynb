{
 "cells": [
  {
   "cell_type": "code",
   "execution_count": null,
   "metadata": {},
   "outputs": [],
   "source": []
  },
  {
   "cell_type": "code",
   "execution_count": 1,
   "metadata": {},
   "outputs": [
    {
     "name": "stdout",
     "output_type": "stream",
     "text": [
      "abc\n",
      "def\n"
     ]
    }
   ],
   "source": [
    "# Basic syntex in python\n",
    "# Case Sensitivity\n",
    "\n",
    "name=\"abc\"\n",
    "Name=\"def\"\n",
    "\n",
    "print(name)\n",
    "print(Name)"
   ]
  },
  {
   "cell_type": "code",
   "execution_count": 2,
   "metadata": {},
   "outputs": [
    {
     "name": "stdout",
     "output_type": "stream",
     "text": [
      "False\n"
     ]
    }
   ],
   "source": [
    "print(name==Name)"
   ]
  },
  {
   "cell_type": "markdown",
   "metadata": {},
   "source": [
    "# Python Indentation\n",
    "\n",
    "In Python, **indentation is crucial** because it defines the **block of code**. Unlike other programming languages (which use `{}` or `;`), Python uses **whitespace (indentation)** to determine the scope of **loops, conditionals, functions,** and more. \n",
    "\n",
    "Let’s go over some **rules and examples** for proper Python indentation.\n",
    "\n",
    "---\n",
    "\n",
    "## Basic Rules of Indentation in Python\n",
    "\n",
    "### 1. Consistent Indentation:\n",
    "- Use **either 4 spaces or 1 tab** per indentation level (recommended: **4 spaces**).\n",
    "- **Mixing spaces and tabs** can cause errors.\n",
    "\n",
    "### 2. Required for Blocks:\n",
    "- Indentation is **mandatory** for blocks like **if statements, loops, functions, and classes**.\n",
    "\n",
    "### 3. Same Level of Indentation:\n",
    "- All lines within the **same block** must have the **same level of indentation**.\n"
   ]
  },
  {
   "cell_type": "code",
   "execution_count": 3,
   "metadata": {},
   "outputs": [
    {
     "name": "stdout",
     "output_type": "stream",
     "text": [
      "32\n",
      "32\n"
     ]
    }
   ],
   "source": [
    "## Indentation\n",
    "## Python uses indentation to define blocks of code. Cosostent use of space(4 space) or tab is required.\n",
    "\n",
    "age = 32\n",
    "\n",
    "if age > 30:\n",
    "    print(age) # 4 space indentation\n",
    "\n",
    "print(age) #outside the if statement"
   ]
  },
  {
   "cell_type": "code",
   "execution_count": 4,
   "metadata": {},
   "outputs": [
    {
     "name": "stdout",
     "output_type": "stream",
     "text": [
      "Hello, world\n"
     ]
    }
   ],
   "source": [
    "# this is single line comment\n",
    "print(\"Hello, world\")"
   ]
  },
  {
   "cell_type": "code",
   "execution_count": 10,
   "metadata": {},
   "outputs": [
    {
     "name": "stdout",
     "output_type": "stream",
     "text": [
      "36\n"
     ]
    }
   ],
   "source": [
    "# Line continuation\n",
    "# Use a backslash (\\) to continue a statement to the next line\n",
    "\n",
    "total =1+2+3+4+5+\\\n",
    "6+7+8\n",
    "\n",
    "print(total)"
   ]
  },
  {
   "cell_type": "code",
   "execution_count": 13,
   "metadata": {},
   "outputs": [
    {
     "name": "stdout",
     "output_type": "stream",
     "text": [
      "5 10 11\n"
     ]
    }
   ],
   "source": [
    "#Multiple statements on a single line\n",
    "x = 5; y=10; z=11\n",
    "print(x,y,z)"
   ]
  },
  {
   "cell_type": "code",
   "execution_count": 16,
   "metadata": {},
   "outputs": [
    {
     "name": "stdout",
     "output_type": "stream",
     "text": [
      "30 abc\n"
     ]
    }
   ],
   "source": [
    "## Semantics in python\n",
    "\n",
    "#variables\n",
    "\n",
    "age=30 # the kernel automaticall understand that age is a integer\n",
    "\n",
    "name=\"abc\" # \"\" -> string, the kernal automaticaly detects strings type\n",
    "\n",
    "print(age, name)"
   ]
  },
  {
   "cell_type": "code",
   "execution_count": 17,
   "metadata": {},
   "outputs": [
    {
     "data": {
      "text/plain": [
       "str"
      ]
     },
     "execution_count": 17,
     "metadata": {},
     "output_type": "execute_result"
    }
   ],
   "source": [
    "type(name)"
   ]
  },
  {
   "cell_type": "code",
   "execution_count": 18,
   "metadata": {},
   "outputs": [
    {
     "data": {
      "text/plain": [
       "int"
      ]
     },
     "execution_count": 18,
     "metadata": {},
     "output_type": "execute_result"
    }
   ],
   "source": [
    "type(age)"
   ]
  },
  {
   "cell_type": "code",
   "execution_count": 19,
   "metadata": {},
   "outputs": [
    {
     "name": "stdout",
     "output_type": "stream",
     "text": [
      "<class 'int'>\n",
      "<class 'str'>\n"
     ]
    }
   ],
   "source": [
    "# Type interface\n",
    "\n",
    "variable=10\n",
    "print(type(variable)) # integer\n",
    "\n",
    "variable = \"abcde\"\n",
    "\n",
    "print(type(variable)) # string"
   ]
  },
  {
   "cell_type": "code",
   "execution_count": 20,
   "metadata": {},
   "outputs": [
    {
     "ename": "NameError",
     "evalue": "name 'b' is not defined",
     "output_type": "error",
     "traceback": [
      "\u001b[0;31m---------------------------------------------------------------------------\u001b[0m",
      "\u001b[0;31mNameError\u001b[0m                                 Traceback (most recent call last)",
      "Cell \u001b[0;32mIn[20], line 3\u001b[0m\n\u001b[1;32m      1\u001b[0m \u001b[38;5;66;03m#name error\u001b[39;00m\n\u001b[0;32m----> 3\u001b[0m a\u001b[38;5;241m=\u001b[39m\u001b[43mb\u001b[49m\n",
      "\u001b[0;31mNameError\u001b[0m: name 'b' is not defined"
     ]
    }
   ],
   "source": [
    "#name error\n",
    "\n",
    "a=b # b is not defined"
   ]
  },
  {
   "cell_type": "code",
   "execution_count": 24,
   "metadata": {},
   "outputs": [
    {
     "name": "stdout",
     "output_type": "stream",
     "text": [
      "Correct indentation\n",
      "This will print\n",
      "Outside if block\n"
     ]
    }
   ],
   "source": [
    "# Code example of indentation\n",
    "\n",
    "if True: #boolean variable\n",
    "    print(\"Correct indentation\") # 4 space or a tab indentation\n",
    "    if False: #another ondentation\n",
    "        print(\"This won't print\") # 8 space or 2 tab\n",
    "    print(\"This will print\") \n",
    "print(\"Outside if block\")"
   ]
  },
  {
   "cell_type": "code",
   "execution_count": null,
   "metadata": {},
   "outputs": [],
   "source": []
  }
 ],
 "metadata": {
  "kernelspec": {
   "display_name": "Python 3",
   "language": "python",
   "name": "python3"
  },
  "language_info": {
   "codemirror_mode": {
    "name": "ipython",
    "version": 3
   },
   "file_extension": ".py",
   "mimetype": "text/x-python",
   "name": "python",
   "nbconvert_exporter": "python",
   "pygments_lexer": "ipython3",
   "version": "3.10.15"
  }
 },
 "nbformat": 4,
 "nbformat_minor": 2
}
