{
 "cells": [
  {
   "cell_type": "markdown",
   "metadata": {},
   "source": [
    "# Definition of Data Types in Python\n",
    "\n",
    "In Python, **data types** refer to the classification or categorization of data items. Every value in Python belongs to a specific data type, which determines the operations that can be performed on that value and how it is stored in memory.\n",
    "\n",
    "### Common Python Data Types:\n",
    "\n",
    "1. **Numeric Types**:\n",
    "   - **int**: Represents whole numbers without a fractional part. E.g., `5`, `-42`.\n",
    "   - **float**: Represents numbers with a decimal point or in exponential form. E.g., `3.14`, `2.5e3`.\n",
    "   - **complex**: Used for complex numbers, which include both real and imaginary parts. E.g., `1 + 2j`.\n",
    "\n",
    "2. **Sequence Types**:\n",
    "   - **str**: A sequence of characters used to represent text. Strings are immutable in Python. E.g., `\"Hello, World!\"`.\n",
    "   - **list**: An ordered and mutable collection of elements, which can be of different types. E.g., `[1, 'apple', 3.5]`.\n",
    "   - **tuple**: Similar to a list, but tuples are immutable. E.g., `(1, 'apple', 3.5)`.\n",
    "\n",
    "3. **Set Types**:\n",
    "   - **set**: An unordered collection of unique items. Sets do not allow duplicates. E.g., `{1, 2, 3, 4}`.\n",
    "   - **frozenset**: An immutable version of a set. E.g., `frozenset([1, 2, 3])`.\n",
    "\n",
    "4. **Mapping Type**:\n",
    "   - **dict**: A collection of key-value pairs, where each key is unique and associated with a value. E.g., `{'name': 'Alice', 'age': 25}`.\n",
    "\n",
    "5. **Boolean Type**:\n",
    "   - **bool**: Represents one of two values: `True` or `False`, typically used in conditional statements. E.g., `is_raining = False`.\n",
    "\n",
    "6. **None Type**:\n",
    "   - **NoneType**: Represents the absence of a value. The only value in this type is `None`. E.g., `x = None`.\n",
    "\n",
    "### Why Data Types Matter:\n",
    "Data types are essential in programming as they:\n",
    "- Define the type of operations that can be performed on the data.\n",
    "- Determine how memory is managed.\n",
    "- Affect code readability and maintainability.\n"
   ]
  },
  {
   "cell_type": "code",
   "execution_count": 1,
   "metadata": {},
   "outputs": [
    {
     "data": {
      "text/plain": [
       "int"
      ]
     },
     "execution_count": 1,
     "metadata": {},
     "output_type": "execute_result"
    }
   ],
   "source": [
    "## Itegers\n",
    "age =30\n",
    "type(age)"
   ]
  },
  {
   "cell_type": "code",
   "execution_count": 2,
   "metadata": {},
   "outputs": [
    {
     "name": "stdout",
     "output_type": "stream",
     "text": [
      "5.6 <class 'float'>\n"
     ]
    }
   ],
   "source": [
    "## Floating point datatype\n",
    "\n",
    "height = 5.6\n",
    "print(height, type(height))"
   ]
  },
  {
   "cell_type": "code",
   "execution_count": 3,
   "metadata": {},
   "outputs": [
    {
     "name": "stdout",
     "output_type": "stream",
     "text": [
      "Python <class 'str'>\n"
     ]
    }
   ],
   "source": [
    "## String\n",
    "\n",
    "name = \"Python\"\n",
    "print(name, type(name))"
   ]
  },
  {
   "cell_type": "code",
   "execution_count": 4,
   "metadata": {},
   "outputs": [
    {
     "name": "stdout",
     "output_type": "stream",
     "text": [
      "True <class 'bool'>\n"
     ]
    }
   ],
   "source": [
    "## boolean\n",
    "flag=True\n",
    "print(flag, type(flag))"
   ]
  },
  {
   "cell_type": "code",
   "execution_count": 5,
   "metadata": {},
   "outputs": [
    {
     "name": "stdout",
     "output_type": "stream",
     "text": [
      "False <class 'bool'>\n"
     ]
    }
   ],
   "source": [
    "flag = bool() #default is false\n",
    "print(flag, type(flag))"
   ]
  },
  {
   "cell_type": "code",
   "execution_count": 7,
   "metadata": {},
   "outputs": [
    {
     "name": "stdout",
     "output_type": "stream",
     "text": [
      "True <class 'bool'>\n"
     ]
    }
   ],
   "source": [
    "a = 20\n",
    "b = 20\n",
    "\n",
    "print(a==b, type(a==b))"
   ]
  },
  {
   "cell_type": "code",
   "execution_count": 8,
   "metadata": {},
   "outputs": [
    {
     "ename": "TypeError",
     "evalue": "can only concatenate str (not \"int\") to str",
     "output_type": "error",
     "traceback": [
      "\u001b[0;31m---------------------------------------------------------------------------\u001b[0m",
      "\u001b[0;31mTypeError\u001b[0m                                 Traceback (most recent call last)",
      "Cell \u001b[0;32mIn[8], line 3\u001b[0m\n\u001b[1;32m      1\u001b[0m \u001b[38;5;66;03m## Common errors\u001b[39;00m\n\u001b[0;32m----> 3\u001b[0m result \u001b[38;5;241m=\u001b[39m \u001b[38;5;124;43m\"\u001b[39;49m\u001b[38;5;124;43m Hello\u001b[39;49m\u001b[38;5;124;43m\"\u001b[39;49m\u001b[43m \u001b[49m\u001b[38;5;241;43m+\u001b[39;49m\u001b[43m \u001b[49m\u001b[38;5;241;43m5\u001b[39;49m\n",
      "\u001b[0;31mTypeError\u001b[0m: can only concatenate str (not \"int\") to str"
     ]
    }
   ],
   "source": [
    "## Common errors\n",
    "\n",
    "result = \" Hello\" + 5\n"
   ]
  },
  {
   "cell_type": "code",
   "execution_count": 11,
   "metadata": {},
   "outputs": [
    {
     "data": {
      "text/plain": [
       "'hello5'"
      ]
     },
     "execution_count": 11,
     "metadata": {},
     "output_type": "execute_result"
    }
   ],
   "source": [
    "result = \"hello\" + str(5)\n",
    "result"
   ]
  },
  {
   "cell_type": "code",
   "execution_count": 12,
   "metadata": {},
   "outputs": [
    {
     "name": "stdout",
     "output_type": "stream",
     "text": [
      "The value of x is: None\n",
      "The type of x is: <class 'NoneType'>\n",
      "No value assigned\n"
     ]
    }
   ],
   "source": [
    "# Example of NoneType in Python\n",
    "\n",
    "# Assigning None to a variable\n",
    "x = None\n",
    "\n",
    "# Checking the type of the variable\n",
    "print(f'The value of x is: {x}')\n",
    "print(f'The type of x is: {type(x)}')\n",
    "\n",
    "# Example of None used in a function\n",
    "def check_value(val):\n",
    "    if val is None:\n",
    "        return \"No value assigned\"\n",
    "    else:\n",
    "        return \"Value is present\"\n",
    "\n",
    "# Testing the function with None\n",
    "result = check_value(x)\n",
    "print(result)\n"
   ]
  },
  {
   "cell_type": "code",
   "execution_count": null,
   "metadata": {},
   "outputs": [],
   "source": []
  }
 ],
 "metadata": {
  "kernelspec": {
   "display_name": "Python 3",
   "language": "python",
   "name": "python3"
  },
  "language_info": {
   "codemirror_mode": {
    "name": "ipython",
    "version": 3
   },
   "file_extension": ".py",
   "mimetype": "text/x-python",
   "name": "python",
   "nbconvert_exporter": "python",
   "pygments_lexer": "ipython3",
   "version": "3.10.15"
  }
 },
 "nbformat": 4,
 "nbformat_minor": 2
}
