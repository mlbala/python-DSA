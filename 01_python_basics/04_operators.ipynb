{
 "cells": [
  {
   "cell_type": "markdown",
   "metadata": {},
   "source": [
    "# Python Operators\n",
    "\n",
    "In Python, **operators** are special symbols or keywords that perform operations on variables and values. Python supports a wide range of operators that can be categorized based on the type of operation they perform.\n",
    "\n",
    "### Types of Python Operators:\n",
    "\n",
    "1. **Arithmetic Operators**:\n",
    "   Used to perform mathematical operations such as addition, subtraction, multiplication, etc.\n",
    "   - `+` : Addition (e.g., `x + y`)\n",
    "   - `-` : Subtraction (e.g., `x - y`)\n",
    "   - `*` : Multiplication (e.g., `x * y`)\n",
    "   - `/` : Division (e.g., `x / y`)\n",
    "   - `%` : Modulus (returns remainder) (e.g., `x % y`)\n",
    "   - `**` : Exponentiation (e.g., `x ** y` raises `x` to the power of `y`)\n",
    "   - `//` : Floor division (e.g., `x // y` returns the quotient rounded down)\n",
    "\n",
    "2. **Comparison (Relational) Operators**:\n",
    "   Used to compare two values and return a boolean (`True` or `False`).\n",
    "   - `==` : Equal to (e.g., `x == y`)\n",
    "   - `!=` : Not equal to (e.g., `x != y`)\n",
    "   - `>` : Greater than (e.g., `x > y`)\n",
    "   - `<` : Less than (e.g., `x < y`)\n",
    "   - `>=` : Greater than or equal to (e.g., `x >= y`)\n",
    "   - `<=` : Less than or equal to (e.g., `x <= y`)\n",
    "\n",
    "3. **Logical Operators**:\n",
    "   Used to combine conditional statements or compare boolean values.\n",
    "   - `and` : Returns `True` if both operands are `True` (e.g., `x and y`)\n",
    "   - `or` : Returns `True` if at least one operand is `True` (e.g., `x or y`)\n",
    "   - `not` : Returns the opposite boolean value (e.g., `not x`)\n",
    "\n",
    "4. **Assignment Operators**:\n",
    "   Used to assign values to variables.\n",
    "   - `=` : Assigns value (e.g., `x = 10`)\n",
    "   - `+=` : Adds and assigns (e.g., `x += 5` is the same as `x = x + 5`)\n",
    "   - `-=` : Subtracts and assigns (e.g., `x -= 5`)\n",
    "   - `*=` : Multiplies and assigns (e.g., `x *= 3`)\n",
    "   - `/=` : Divides and assigns (e.g., `x /= 2`)\n",
    "   - `%=` : Modulus and assigns (e.g., `x %= 3`)\n",
    "   - `**=` : Exponentiation and assigns (e.g., `x **= 2`)\n",
    "   - `//=` : Floor division and assigns (e.g., `x //= 2`)\n",
    "\n",
    "5. **Bitwise Operators**:\n",
    "   Perform bit-level operations.\n",
    "   - `&` : Bitwise AND (e.g., `x & y`)\n",
    "   - `|` : Bitwise OR (e.g., `x | y`)\n",
    "   - `^` : Bitwise XOR (e.g., `x ^ y`)\n",
    "   - `~` : Bitwise NOT (e.g., `~x`)\n",
    "   - `<<` : Left shift (e.g., `x << 2`)\n",
    "   - `>>` : Right shift (e.g., `x >> 2`)\n",
    "\n",
    "6. **Membership Operators**:\n",
    "   Used to test if a value is part of a sequence (such as a list, tuple, or string).\n",
    "   - `in` : Returns `True` if a value is present in the sequence (e.g., `x in y`)\n",
    "   - `not in` : Returns `True` if a value is not present in the sequence (e.g., `x not in y`)\n",
    "\n",
    "7. **Identity Operators**:\n",
    "   Used to compare memory locations of two objects.\n",
    "   - `is` : Returns `True` if both variables refer to the same object (e.g., `x is y`)\n",
    "   - `is not` : Returns `True` if variables do not refer to the same object (e.g., `x is not y`)\n",
    "\n",
    "### Operator Precedence:\n",
    "Python operators follow a hierarchy when multiple operators are used in an expression, called **operator precedence**. For example, multiplication and division have higher precedence than addition and subtraction. Use parentheses `()` to control the precedence explicitly in expressions.\n",
    "\n",
    "```python\n",
    "# Example: Operator precedence\n",
    "x = 5 + 3 * 2  # Multiplies first, then adds\n",
    "y = (5 + 3) * 2  # Adds first due to parentheses, then multiplies\n",
    "\n",
    "print(x)  # Output: 11\n",
    "print(y)  # Output: 16\n"
   ]
  },
  {
   "cell_type": "code",
   "execution_count": 9,
   "metadata": {},
   "outputs": [
    {
     "name": "stdout",
     "output_type": "stream",
     "text": [
      "Addition: 10 + 3 = 13\n",
      "Subtraction: 10 - 3 = 7\n",
      "Multiplication: 10 * 3 = 30\n",
      "Division: 10 / 3 = 3.3333333333333335\n",
      "Modulus: 10 % 3 = 1\n",
      "Exponentiation: 10 ** 3 = 1000\n",
      "Floor Division: 10 // 3 = 3\n"
     ]
    }
   ],
   "source": [
    "# Arithmetic Operators\n",
    "a = 10  # Assigning a value of 10 to variable a\n",
    "b = 3   # Assigning a value of 3 to variable b\n",
    "\n",
    "# Addition: Adds a and b\n",
    "print(f\"Addition: {a} + {b} = {a + b}\")\n",
    "\n",
    "# Subtraction: Subtracts b from a\n",
    "print(f\"Subtraction: {a} - {b} = {a - b}\")\n",
    "\n",
    "# Multiplication: Multiplies a by b\n",
    "print(f\"Multiplication: {a} * {b} = {a * b}\")\n",
    "\n",
    "# Division: Divides a by b (returns float)\n",
    "print(f\"Division: {a} / {b} = {a / b}\")\n",
    "\n",
    "# Modulus: Returns the remainder of a divided by b\n",
    "print(f\"Modulus: {a} % {b} = {a % b}\")\n",
    "\n",
    "# Exponentiation: Raises a to the power of b\n",
    "print(f\"Exponentiation: {a} ** {b} = {a ** b}\")\n",
    "\n",
    "# Floor Division: Divides a by b and returns the largest integer less than or equal to the result\n",
    "print(f\"Floor Division: {a} // {b} = {a // b}\")\n"
   ]
  },
  {
   "cell_type": "code",
   "execution_count": null,
   "metadata": {},
   "outputs": [],
   "source": []
  },
  {
   "cell_type": "code",
   "execution_count": 3,
   "metadata": {},
   "outputs": [
    {
     "name": "stdout",
     "output_type": "stream",
     "text": [
      "Equal to (==): 10 == 3 -> False\n",
      "Not equal to (!=): 10 != 3 -> True\n",
      "Greater than (>): 10 > 3 -> True\n",
      "Less than (<): 10 < 3 -> False\n",
      "Greater than or equal to (>=): 10 >= 3 -> True\n",
      "Less than or equal to (<=): 10 <= 3 -> False\n"
     ]
    }
   ],
   "source": [
    "# Comparison Operators\n",
    "a = 10  # Assigning a value of 10 to variable a\n",
    "b = 3   # Assigning a value of 3 to variable b\n",
    "\n",
    "# Equal to: Checks if a is equal to b\n",
    "print(f\"Equal to (==): {a} == {b} -> {a == b}\")\n",
    "\n",
    "# Not equal to: Checks if a is not equal to b\n",
    "print(f\"Not equal to (!=): {a} != {b} -> {a != b}\")\n",
    "\n",
    "# Greater than: Checks if a is greater than b\n",
    "print(f\"Greater than (>): {a} > {b} -> {a > b}\")\n",
    "\n",
    "# Less than: Checks if a is less than b\n",
    "print(f\"Less than (<): {a} < {b} -> {a < b}\")\n",
    "\n",
    "# Greater than or equal to: Checks if a is greater than or equal to b\n",
    "print(f\"Greater than or equal to (>=): {a} >= {b} -> {a >= b}\")\n",
    "\n",
    "# Less than or equal to: Checks if a is less than or equal to b\n",
    "print(f\"Less than or equal to (<=): {a} <= {b} -> {a <= b}\")\n"
   ]
  },
  {
   "cell_type": "code",
   "execution_count": 4,
   "metadata": {},
   "outputs": [
    {
     "name": "stdout",
     "output_type": "stream",
     "text": [
      "Logical AND (x and y): False\n",
      "Logical OR (x or y): True\n",
      "Logical NOT (not x): False\n"
     ]
    }
   ],
   "source": [
    "# Logical Operators\n",
    "x = True   # Assigning boolean value True to variable x\n",
    "y = False  # Assigning boolean value False to variable y\n",
    "\n",
    "# Logical AND: Returns True if both x and y are True, otherwise returns False\n",
    "print(f\"Logical AND (x and y): {x and y}\")\n",
    "\n",
    "# Logical OR: Returns True if either x or y is True\n",
    "print(f\"Logical OR (x or y): {x or y}\")\n",
    "\n",
    "# Logical NOT: Returns the opposite boolean value of x\n",
    "print(f\"Logical NOT (not x): {not x}\")\n"
   ]
  },
  {
   "cell_type": "markdown",
   "metadata": {},
   "source": []
  },
  {
   "cell_type": "code",
   "execution_count": 5,
   "metadata": {},
   "outputs": [
    {
     "name": "stdout",
     "output_type": "stream",
     "text": [
      "Addition Assignment (a += 5): 15\n",
      "Subtraction Assignment (a -= 3): 12\n",
      "Multiplication Assignment (a *= 2): 24\n",
      "Division Assignment (a /= 4): 6.0\n",
      "Modulus Assignment (a %= 3): 0.0\n",
      "Exponentiation Assignment (a **= 2): 0.0\n",
      "Floor Division Assignment (a //= 3): 0.0\n"
     ]
    }
   ],
   "source": [
    "# Assignment Operators\n",
    "a = 10  # Assigning a value of 10 to variable a\n",
    "\n",
    "# Addition assignment: Adds 5 to a and assigns the result back to a\n",
    "a += 5  \n",
    "print(f\"Addition Assignment (a += 5): {a}\")\n",
    "\n",
    "# Subtraction assignment: Subtracts 3 from a and assigns the result back to a\n",
    "a -= 3  \n",
    "print(f\"Subtraction Assignment (a -= 3): {a}\")\n",
    "\n",
    "# Multiplication assignment: Multiplies a by 2 and assigns the result back to a\n",
    "a *= 2  \n",
    "print(f\"Multiplication Assignment (a *= 2): {a}\")\n",
    "\n",
    "# Division assignment: Divides a by 4 and assigns the result back to a\n",
    "a /= 4  \n",
    "print(f\"Division Assignment (a /= 4): {a}\")\n",
    "\n",
    "# Modulus assignment: Assigns the remainder of a divided by 3 back to a\n",
    "a %= 3  \n",
    "print(f\"Modulus Assignment (a %= 3): {a}\")\n",
    "\n",
    "# Exponentiation assignment: Raises a to the power of 2 and assigns the result back to a\n",
    "a **= 2  \n",
    "print(f\"Exponentiation Assignment (a **= 2): {a}\")\n",
    "\n",
    "# Floor division assignment: Divides a by 3 and assigns the largest integer result back to a\n",
    "a //= 3  \n",
    "print(f\"Floor Division Assignment (a //= 3): {a}\")\n"
   ]
  },
  {
   "cell_type": "code",
   "execution_count": 6,
   "metadata": {},
   "outputs": [
    {
     "name": "stdout",
     "output_type": "stream",
     "text": [
      "Bitwise AND (a & b): 1\n",
      "Bitwise OR (a | b): 7\n",
      "Bitwise XOR (a ^ b): 6\n",
      "Bitwise NOT (~a): -6\n",
      "Left Shift (a << 2): 20\n",
      "Right Shift (a >> 2): 1\n"
     ]
    }
   ],
   "source": [
    "# Bitwise Operators\n",
    "a = 5  # In binary: 101\n",
    "b = 3  # In binary: 011\n",
    "\n",
    "# Bitwise AND: Performs bitwise AND operation (101 & 011 = 001 -> 1)\n",
    "print(f\"Bitwise AND (a & b): {a & b}\")\n",
    "\n",
    "# Bitwise OR: Performs bitwise OR operation (101 | 011 = 111 -> 7)\n",
    "print(f\"Bitwise OR (a | b): {a | b}\")\n",
    "\n",
    "# Bitwise XOR: Performs bitwise XOR operation (101 ^ 011 = 110 -> 6)\n",
    "print(f\"Bitwise XOR (a ^ b): {a ^ b}\")\n",
    "\n",
    "# Bitwise NOT: Inverts the bits of a (NOT 101 -> -110 -> -6 in two's complement form)\n",
    "print(f\"Bitwise NOT (~a): {~a}\")\n",
    "\n",
    "# Left shift: Shifts the bits of a to the left by 2 positions (101 << 2 = 10100 -> 20)\n",
    "print(f\"Left Shift (a << 2): {a << 2}\")\n",
    "\n",
    "# Right shift: Shifts the bits of a to the right by 2 positions (101 >> 2 = 001 -> 1)\n",
    "print(f\"Right Shift (a >> 2): {a >> 2}\")\n"
   ]
  },
  {
   "cell_type": "code",
   "execution_count": 7,
   "metadata": {},
   "outputs": [
    {
     "name": "stdout",
     "output_type": "stream",
     "text": [
      "3 in lst: True\n",
      "6 not in lst: True\n"
     ]
    }
   ],
   "source": [
    "# Membership Operators\n",
    "lst = [1, 2, 3, 4, 5]  # Defining a list\n",
    "\n",
    "# 'in' operator: Checks if 3 is in the list\n",
    "print(f\"3 in lst: {3 in lst}\")\n",
    "\n",
    "# 'not in' operator: Checks if 6 is not in the list\n",
    "print(f\"6 not in lst: {6 not in lst}\")\n"
   ]
  },
  {
   "cell_type": "code",
   "execution_count": 8,
   "metadata": {},
   "outputs": [
    {
     "name": "stdout",
     "output_type": "stream",
     "text": [
      "a is b: False\n",
      "a is not b: True\n",
      "a is c: True\n"
     ]
    }
   ],
   "source": [
    "# Identity Operators\n",
    "a = [1, 2, 3]  # List a\n",
    "b = [1, 2, 3]  # List b with the same content but different object in memory\n",
    "c = a          # Variable c refers to the same object as a\n",
    "\n",
    "# 'is' operator: Checks if a and b refer to the same object in memory\n",
    "print(f\"a is b: {a is b}\")\n",
    "\n",
    "# 'is not' operator: Checks if a and b are different objects in memory\n",
    "print(f\"a is not b: {a is not b}\")\n",
    "\n",
    "# 'is' operator: Checks if a and c refer to the same object in memory\n",
    "print(f\"a is c: {a is c}\")\n"
   ]
  },
  {
   "cell_type": "code",
   "execution_count": null,
   "metadata": {},
   "outputs": [],
   "source": []
  }
 ],
 "metadata": {
  "kernelspec": {
   "display_name": "Python 3",
   "language": "python",
   "name": "python3"
  },
  "language_info": {
   "codemirror_mode": {
    "name": "ipython",
    "version": 3
   },
   "file_extension": ".py",
   "mimetype": "text/x-python",
   "name": "python",
   "nbconvert_exporter": "python",
   "pygments_lexer": "ipython3",
   "version": "3.10.15"
  }
 },
 "nbformat": 4,
 "nbformat_minor": 2
}
